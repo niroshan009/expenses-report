{
 "cells": [
  {
   "cell_type": "code",
   "execution_count": 70,
   "metadata": {},
   "outputs": [
    {
     "name": "stderr",
     "output_type": "stream",
     "text": [
      "May 03, 2024 3:41:00 PM org.apache.pdfbox.pdmodel.font.PDType0Font toUnicode\n",
      "WARNING: No Unicode mapping for CID+2 (2) in font AllAndNone\n",
      "May 03, 2024 3:41:00 PM org.apache.pdfbox.pdmodel.font.PDType0Font toUnicode\n",
      "WARNING: No Unicode mapping for CID+3 (3) in font AllAndNone\n",
      "May 03, 2024 3:41:00 PM org.apache.pdfbox.pdmodel.font.PDType0Font toUnicode\n",
      "WARNING: No Unicode mapping for CID+1 (1) in font AllAndNone\n",
      "May 03, 2024 3:41:00 PM org.apache.pdfbox.pdmodel.font.PDType0Font toUnicode\n",
      "WARNING: No Unicode mapping for CID+4 (4) in font AllAndNone\n"
     ]
    },
    {
     "name": "stdout",
     "output_type": "stream",
     "text": [
      "========\n",
      "========\n",
      "========\n",
      "========\n",
      "        Description    Date  Amount\n",
      "28         WATSON'S  02 FEB  266.94\n",
      "12           HM JEM  12 FEB  106.26\n",
      "21  SINGTEL MYACCOU  28 JAN  103.37\n",
      "6           BUS/MRT  02 FEB   66.42\n",
      "4   ATOME* MYPROTEI  27 JAN   48.49\n",
      "18  NTUC FAIRPRICE   04 FEB   47.35\n",
      "24  TAKASHIMAYA (S)  03 FEB    46.9\n",
      "25  TIONG BAHRU BAK  12 FEB   43.28\n",
      "27  UDEMY+905326253  01 FEB   41.39\n",
      "20       RAYBAN 313  03 FEB    24.0\n",
      "16  MCDONALDS 93017  09 FEB   20.05\n",
      "11     FOODJUNCTION  10 FEB   17.72\n",
      "14     KOPITIAM@PLQ  02 FEB    16.5\n",
      "22  SRI MURUGAN TRD  04 FEB    16.0\n",
      "13   KOPITIAM @VIVO  02 FEB    15.2\n",
      "15  KRAFTWICH @ THE  27 JAN    15.1\n",
      "19    NTUC FP - PSA  30 JAN   15.01\n",
      "23  SUBWAY - PARKWA  07 FEB    13.6\n",
      "0   4FINGERS CRISPY  10 FEB    10.5\n",
      "8   FAIRPRICE FINES  31 JAN    9.07\n",
      "17  NET*SUBWAY @ FU  27 JAN     8.9\n",
      "9   FO ION-BANGKOK   03 FEB     8.8\n",
      "2   7-ELEVEN-139 TY  10 FEB     8.0\n",
      "7       CANTINE@PLS  05 FEB     7.9\n",
      "10  FO ION-JUICE BA  03 FEB     5.7\n",
      "1    7-ELEVEN - MBC  09 FEB     4.9\n",
      "26  TOAST BOX - CIT  03 FEB     4.9\n",
      "3   7-ELEVEN-PSA BL  06 FEB     4.0\n",
      "5   BURGER KING - A  06 FEB     3.6\n"
     ]
    }
   ],
   "source": [
    "import tabula\n",
    "import pandas as pd\n",
    "import re\n",
    "\n",
    "\n",
    "pattern = r'^\\d{2}\\s(?:JAN|FEB|MAR|APR|MAY|JUN|JUL|AUG|SEP|OCT|NOV|DEC)$'\n",
    "but_mrt_pattern = '^BUS\\/MRT \\d{9}$'\n",
    "\n",
    "\n",
    "file_name = \"feb_2024.pdf\"\n",
    "output_file_name= file_name.split('.')[0]\n",
    " \n",
    "dfs = tabula.read_pdf(file_name, pages='all',  guess=True, lattice=False, stream=True, multiple_tables=True,\n",
    "                            pandas_options={\n",
    "                                'header':None})\n",
    "\n",
    "filterd_data =  pd.DataFrame(columns=[0,1,2])\n",
    "\n",
    "for df in dfs[1:]:\n",
    "    for index, row in df.iterrows():\n",
    "        if bool(re.match(pattern, str(row[0]))):\n",
    "            filterd_data.loc[len(filterd_data)] = row\n",
    "\n",
    "new_columns = {0 : 'Date', 1 : 'Description', 2 : 'Amount' }\n",
    "\n",
    "renamed_data = filterd_data.rename(columns=new_columns)\n",
    "\n",
    "for index, row in renamed_data.iterrows():\n",
    "    if(bool(re.match(but_mrt_pattern,row['Description']))):\n",
    "        row['Description'] = 'BUS/MRT'\n",
    "\n",
    "\n",
    "grouped_df = renamed_data.groupby(renamed_data['Description'].str[:15]).agg({'Date':'min','Amount': 'sum'}).reset_index().sort_values(by='Amount',ascending=False)\n",
    "\n",
    "grouped_df.to_csv(output_file_name+'.csv',index=False)"
   ]
  },
  {
   "cell_type": "code",
   "execution_count": null,
   "metadata": {},
   "outputs": [],
   "source": []
  }
 ],
 "metadata": {
  "kernelspec": {
   "display_name": "Python 3",
   "language": "python",
   "name": "python3"
  },
  "language_info": {
   "codemirror_mode": {
    "name": "ipython",
    "version": 3
   },
   "file_extension": ".py",
   "mimetype": "text/x-python",
   "name": "python",
   "nbconvert_exporter": "python",
   "pygments_lexer": "ipython3",
   "version": "3.11.5"
  }
 },
 "nbformat": 4,
 "nbformat_minor": 2
}
