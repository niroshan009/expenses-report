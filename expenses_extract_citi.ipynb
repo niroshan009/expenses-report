{
 "cells": [
  {
   "cell_type": "code",
   "execution_count": 2,
   "metadata": {},
   "outputs": [],
   "source": [
    "import tabula\n",
    "import pandas as pd\n",
    "\n",
    "file_name = \"eStatement_Feb2024.pdf\"\n",
    "output_file_name= file_name.split('.')[0]\n",
    " \n",
    "dfs = tabula.read_pdf(file_name, pages='all', encoding='utf-8', guess=False, lattice=False, stream=True)\n",
    "\n",
    "appended_data = []\n",
    "\n",
    "for df in dfs[1:]:\n",
    "    df3 = df.drop_duplicates();\n",
    "    df4 = df3.dropna(axis=1, how='all');\n",
    "    df5 = df4.dropna(axis=0, how='all');\n",
    "\n",
    "    df6 = df5.map(lambda x: x.strip() if isinstance(x, str) else x)\n",
    "\n",
    "    df6.columns = [*df6.columns[:-1], 'Amount']\n",
    "\n",
    "    df6['Date']=df5['Unnamed: 0'].str.slice(stop=6)+' 2023'\n",
    "    df6['Description']=df5['Unnamed: 0'].str.slice(start=6)\n",
    "    df7 = df6.filter(['Date','Description','Amount'])\n",
    "\n",
    "    df7['Date'] = pd.to_datetime(df7['Date'],format='%d %b %Y',errors='coerce')\n",
    "    df7 = df7.dropna(subset=['Date'])\n",
    "    df7['Amount'] = df7['Amount'].astype(str)\n",
    "    df7['Amount'] = df7['Amount'].str.replace(r'[^0-9.]', '', regex=True)\n",
    "    df7['Amount'] = pd.to_numeric(df7['Amount'], errors='coerce')\n",
    "\n",
    "    appended_data.append(df7)\n",
    " \n",
    "appended_data = pd.concat(appended_data).reset_index(drop=True)\n",
    "\n",
    "grouped_df = appended_data.groupby(['Description']).agg({'Date':'min','Amount': 'sum'}).reset_index().sort_values(by='Amount',ascending=False)\n",
    "\n",
    "desired_column_order = ['Date','Description','Amount']  \n",
    "\n",
    "reodered_df = grouped_df[desired_column_order]\n",
    "reodered_df.to_csv(output_file_name+'.csv',index=False)"
   ]
  }
 ],
 "metadata": {
  "kernelspec": {
   "display_name": "Python 3",
   "language": "python",
   "name": "python3"
  },
  "language_info": {
   "codemirror_mode": {
    "name": "ipython",
    "version": 3
   },
   "file_extension": ".py",
   "mimetype": "text/x-python",
   "name": "python",
   "nbconvert_exporter": "python",
   "pygments_lexer": "ipython3",
   "version": "3.11.5"
  }
 },
 "nbformat": 4,
 "nbformat_minor": 2
}
